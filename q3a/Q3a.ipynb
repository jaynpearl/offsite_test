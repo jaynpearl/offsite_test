{
 "cells": [
  {
   "cell_type": "code",
   "execution_count": 1,
   "metadata": {},
   "outputs": [],
   "source": [
    "import pandas as pd"
   ]
  },
  {
   "cell_type": "code",
   "execution_count": 2,
   "metadata": {},
   "outputs": [],
   "source": [
    "# For text clean up and tokenization\n",
    "from bs4 import BeautifulSoup\n",
    "from hanziconv import HanziConv\n",
    "import jieba\n",
    "import re"
   ]
  },
  {
   "cell_type": "code",
   "execution_count": 3,
   "metadata": {},
   "outputs": [],
   "source": [
    "from sklearn.model_selection import train_test_split\n",
    "from sklearn.feature_extraction.text import CountVectorizer\n",
    "from sklearn import preprocessing\n",
    "from sklearn.model_selection import GridSearchCV\n",
    "from sklearn.model_selection import train_test_split\n",
    "from sklearn.svm import SVC\n",
    "from sklearn.metrics import classification_report"
   ]
  },
  {
   "cell_type": "markdown",
   "metadata": {},
   "source": [
    "## Data Exploration  \n",
    "See how's the labeled data looks like"
   ]
  },
  {
   "cell_type": "code",
   "execution_count": 4,
   "metadata": {},
   "outputs": [
    {
     "data": {
      "text/html": [
       "<div>\n",
       "<style scoped>\n",
       "    .dataframe tbody tr th:only-of-type {\n",
       "        vertical-align: middle;\n",
       "    }\n",
       "\n",
       "    .dataframe tbody tr th {\n",
       "        vertical-align: top;\n",
       "    }\n",
       "\n",
       "    .dataframe thead th {\n",
       "        text-align: right;\n",
       "    }\n",
       "</style>\n",
       "<table border=\"1\" class=\"dataframe\">\n",
       "  <thead>\n",
       "    <tr style=\"text-align: right;\">\n",
       "      <th></th>\n",
       "      <th>id</th>\n",
       "      <th>tags</th>\n",
       "      <th>text</th>\n",
       "    </tr>\n",
       "  </thead>\n",
       "  <tbody>\n",
       "    <tr>\n",
       "      <th>0</th>\n",
       "      <td>3443</td>\n",
       "      <td>足球</td>\n",
       "      <td>利物浦重賽擊敗乙組仔　英足盃過關 英格蘭足總盃第三圈今晨重賽，貴為英超勁旅的利物浦上場被乙組...</td>\n",
       "    </tr>\n",
       "    <tr>\n",
       "      <th>1</th>\n",
       "      <td>76056</td>\n",
       "      <td>足球</td>\n",
       "      <td>【中超】恒大「暴力戰」絕殺國安　楊智反重力插水惹爭議（有片） 中超首輪賽事重頭戲，廣州恒大主...</td>\n",
       "    </tr>\n",
       "    <tr>\n",
       "      <th>2</th>\n",
       "      <td>93405</td>\n",
       "      <td>足球</td>\n",
       "      <td>【歐霸決賽】阿積士控球率起腳佔優　隊長卡拉臣輸波不服氣 阿積士以歐洲主要決賽最年輕、平均22...</td>\n",
       "    </tr>\n",
       "    <tr>\n",
       "      <th>3</th>\n",
       "      <td>26767</td>\n",
       "      <td>足球</td>\n",
       "      <td>【歐國盃】韋莫斯澄清更衣室未內訌　盼以團結力量挫愛爾蘭 今晚3場直播\\r\\r\\nE組｜比利時...</td>\n",
       "    </tr>\n",
       "    <tr>\n",
       "      <th>4</th>\n",
       "      <td>20843</td>\n",
       "      <td>梁振英</td>\n",
       "      <td>王維基參選　點解？ 王維基在宣布有意出選的記者會上，打出ABC，Anyone But CY的...</td>\n",
       "    </tr>\n",
       "    <tr>\n",
       "      <th>5</th>\n",
       "      <td>74481</td>\n",
       "      <td>足球</td>\n",
       "      <td>【港超】大埔5：1炒飛馬　近7仗第5勝　與前四只差兩分 港超周日早場便出現大比數戰果，主場出...</td>\n",
       "    </tr>\n",
       "    <tr>\n",
       "      <th>6</th>\n",
       "      <td>52914</td>\n",
       "      <td>美國大選</td>\n",
       "      <td>回看內政兩大建樹　奧巴馬醫保前景難料　亮麗經濟數字埋隱憂 在任近8年，美國總統奧巴馬在內政上...</td>\n",
       "    </tr>\n",
       "    <tr>\n",
       "      <th>7</th>\n",
       "      <td>94059</td>\n",
       "      <td>足球</td>\n",
       "      <td>【牛丸退任圖輯】一年半狂破紀錄　由銅紫荊星章到亞洲最佳女教練 從來，女教練執教男子職業足球隊...</td>\n",
       "    </tr>\n",
       "    <tr>\n",
       "      <th>8</th>\n",
       "      <td>41325</td>\n",
       "      <td>足球</td>\n",
       "      <td>【足球】拉爾拉拿絕殺　艾拿戴斯︰英格蘭首捷因幸運硬幣 英格蘭主帥艾拿戴斯首戰取得好開始，憑拉...</td>\n",
       "    </tr>\n",
       "    <tr>\n",
       "      <th>9</th>\n",
       "      <td>5203</td>\n",
       "      <td>美國大選</td>\n",
       "      <td>美國民主共和兩黨初選早期重要日子 二月三月 &lt;p&gt;&lt;span style=\"font-siz...</td>\n",
       "    </tr>\n",
       "  </tbody>\n",
       "</table>\n",
       "</div>"
      ],
      "text/plain": [
       "      id  tags                                               text\n",
       "0   3443    足球  利物浦重賽擊敗乙組仔　英足盃過關 英格蘭足總盃第三圈今晨重賽，貴為英超勁旅的利物浦上場被乙組...\n",
       "1  76056    足球  【中超】恒大「暴力戰」絕殺國安　楊智反重力插水惹爭議（有片） 中超首輪賽事重頭戲，廣州恒大主...\n",
       "2  93405    足球  【歐霸決賽】阿積士控球率起腳佔優　隊長卡拉臣輸波不服氣 阿積士以歐洲主要決賽最年輕、平均22...\n",
       "3  26767    足球  【歐國盃】韋莫斯澄清更衣室未內訌　盼以團結力量挫愛爾蘭 今晚3場直播\\r\\r\\nE組｜比利時...\n",
       "4  20843   梁振英  王維基參選　點解？ 王維基在宣布有意出選的記者會上，打出ABC，Anyone But CY的...\n",
       "5  74481    足球  【港超】大埔5：1炒飛馬　近7仗第5勝　與前四只差兩分 港超周日早場便出現大比數戰果，主場出...\n",
       "6  52914  美國大選  回看內政兩大建樹　奧巴馬醫保前景難料　亮麗經濟數字埋隱憂 在任近8年，美國總統奧巴馬在內政上...\n",
       "7  94059    足球  【牛丸退任圖輯】一年半狂破紀錄　由銅紫荊星章到亞洲最佳女教練 從來，女教練執教男子職業足球隊...\n",
       "8  41325    足球  【足球】拉爾拉拿絕殺　艾拿戴斯︰英格蘭首捷因幸運硬幣 英格蘭主帥艾拿戴斯首戰取得好開始，憑拉...\n",
       "9   5203  美國大選  美國民主共和兩黨初選早期重要日子 二月三月 <p><span style=\"font-siz..."
      ]
     },
     "execution_count": 4,
     "metadata": {},
     "output_type": "execute_result"
    }
   ],
   "source": [
    "df = pd.read_csv('offsite-test-material/offsite-tagging-training-set (1).csv')\n",
    "df.head(10)"
   ]
  },
  {
   "cell_type": "markdown",
   "metadata": {},
   "source": [
    "### Check tags \n",
    "See the distribution amount the traning set"
   ]
  },
  {
   "cell_type": "code",
   "execution_count": 5,
   "metadata": {},
   "outputs": [
    {
     "data": {
      "text/html": [
       "<div>\n",
       "<style scoped>\n",
       "    .dataframe tbody tr th:only-of-type {\n",
       "        vertical-align: middle;\n",
       "    }\n",
       "\n",
       "    .dataframe tbody tr th {\n",
       "        vertical-align: top;\n",
       "    }\n",
       "\n",
       "    .dataframe thead th {\n",
       "        text-align: right;\n",
       "    }\n",
       "</style>\n",
       "<table border=\"1\" class=\"dataframe\">\n",
       "  <thead>\n",
       "    <tr style=\"text-align: right;\">\n",
       "      <th></th>\n",
       "      <th>tags</th>\n",
       "      <th>count</th>\n",
       "      <th>percentages</th>\n",
       "    </tr>\n",
       "  </thead>\n",
       "  <tbody>\n",
       "    <tr>\n",
       "      <th>0</th>\n",
       "      <td>梁振英</td>\n",
       "      <td>929</td>\n",
       "      <td>23.857216</td>\n",
       "    </tr>\n",
       "    <tr>\n",
       "      <th>1</th>\n",
       "      <td>美國大選</td>\n",
       "      <td>842</td>\n",
       "      <td>21.623010</td>\n",
       "    </tr>\n",
       "    <tr>\n",
       "      <th>2</th>\n",
       "      <td>足球</td>\n",
       "      <td>2123</td>\n",
       "      <td>54.519774</td>\n",
       "    </tr>\n",
       "  </tbody>\n",
       "</table>\n",
       "</div>"
      ],
      "text/plain": [
       "   tags  count  percentages\n",
       "0   梁振英    929    23.857216\n",
       "1  美國大選    842    21.623010\n",
       "2    足球   2123    54.519774"
      ]
     },
     "execution_count": 5,
     "metadata": {},
     "output_type": "execute_result"
    }
   ],
   "source": [
    "stat_df = pd.DataFrame({'count' : df.groupby( [ \"tags\"] ).size()}).reset_index()\n",
    "stat_df['percentages'] = stat_df['count'] / stat_df['count'].sum() * 100\n",
    "stat_df"
   ]
  },
  {
   "cell_type": "markdown",
   "metadata": {},
   "source": [
    "## Split data for train and test\n",
    "70% data for training  \n",
    "30% data for testing"
   ]
  },
  {
   "cell_type": "code",
   "execution_count": 6,
   "metadata": {},
   "outputs": [],
   "source": [
    "train_df, test_df = train_test_split(df, test_size=0.3)"
   ]
  },
  {
   "cell_type": "code",
   "execution_count": 7,
   "metadata": {},
   "outputs": [
    {
     "data": {
      "text/html": [
       "<div>\n",
       "<style scoped>\n",
       "    .dataframe tbody tr th:only-of-type {\n",
       "        vertical-align: middle;\n",
       "    }\n",
       "\n",
       "    .dataframe tbody tr th {\n",
       "        vertical-align: top;\n",
       "    }\n",
       "\n",
       "    .dataframe thead th {\n",
       "        text-align: right;\n",
       "    }\n",
       "</style>\n",
       "<table border=\"1\" class=\"dataframe\">\n",
       "  <thead>\n",
       "    <tr style=\"text-align: right;\">\n",
       "      <th></th>\n",
       "      <th>tags</th>\n",
       "      <th>count</th>\n",
       "      <th>percentages</th>\n",
       "    </tr>\n",
       "  </thead>\n",
       "  <tbody>\n",
       "    <tr>\n",
       "      <th>0</th>\n",
       "      <td>梁振英</td>\n",
       "      <td>662</td>\n",
       "      <td>24.293578</td>\n",
       "    </tr>\n",
       "    <tr>\n",
       "      <th>1</th>\n",
       "      <td>美國大選</td>\n",
       "      <td>611</td>\n",
       "      <td>22.422018</td>\n",
       "    </tr>\n",
       "    <tr>\n",
       "      <th>2</th>\n",
       "      <td>足球</td>\n",
       "      <td>1452</td>\n",
       "      <td>53.284404</td>\n",
       "    </tr>\n",
       "  </tbody>\n",
       "</table>\n",
       "</div>"
      ],
      "text/plain": [
       "   tags  count  percentages\n",
       "0   梁振英    662    24.293578\n",
       "1  美國大選    611    22.422018\n",
       "2    足球   1452    53.284404"
      ]
     },
     "execution_count": 7,
     "metadata": {},
     "output_type": "execute_result"
    }
   ],
   "source": [
    "stat_train_df = pd.DataFrame({'count' : train_df.groupby( [ \"tags\"] ).size()}).reset_index()\n",
    "stat_train_df['percentages'] = stat_train_df['count'] / stat_train_df['count'].sum() * 100\n",
    "stat_train_df"
   ]
  },
  {
   "cell_type": "code",
   "execution_count": 8,
   "metadata": {},
   "outputs": [
    {
     "data": {
      "text/html": [
       "<div>\n",
       "<style scoped>\n",
       "    .dataframe tbody tr th:only-of-type {\n",
       "        vertical-align: middle;\n",
       "    }\n",
       "\n",
       "    .dataframe tbody tr th {\n",
       "        vertical-align: top;\n",
       "    }\n",
       "\n",
       "    .dataframe thead th {\n",
       "        text-align: right;\n",
       "    }\n",
       "</style>\n",
       "<table border=\"1\" class=\"dataframe\">\n",
       "  <thead>\n",
       "    <tr style=\"text-align: right;\">\n",
       "      <th></th>\n",
       "      <th>tags</th>\n",
       "      <th>count</th>\n",
       "      <th>percentages</th>\n",
       "    </tr>\n",
       "  </thead>\n",
       "  <tbody>\n",
       "    <tr>\n",
       "      <th>0</th>\n",
       "      <td>梁振英</td>\n",
       "      <td>267</td>\n",
       "      <td>22.840034</td>\n",
       "    </tr>\n",
       "    <tr>\n",
       "      <th>1</th>\n",
       "      <td>美國大選</td>\n",
       "      <td>231</td>\n",
       "      <td>19.760479</td>\n",
       "    </tr>\n",
       "    <tr>\n",
       "      <th>2</th>\n",
       "      <td>足球</td>\n",
       "      <td>671</td>\n",
       "      <td>57.399487</td>\n",
       "    </tr>\n",
       "  </tbody>\n",
       "</table>\n",
       "</div>"
      ],
      "text/plain": [
       "   tags  count  percentages\n",
       "0   梁振英    267    22.840034\n",
       "1  美國大選    231    19.760479\n",
       "2    足球    671    57.399487"
      ]
     },
     "execution_count": 8,
     "metadata": {},
     "output_type": "execute_result"
    }
   ],
   "source": [
    "stat_test_df = pd.DataFrame({'count' : test_df.groupby( [ \"tags\"] ).size()}).reset_index()\n",
    "stat_test_df['percentages'] = stat_test_df['count'] / stat_test_df['count'].sum() * 100\n",
    "stat_test_df"
   ]
  },
  {
   "cell_type": "markdown",
   "metadata": {},
   "source": [
    "Training set and test set have similiar distribution of tags"
   ]
  },
  {
   "cell_type": "markdown",
   "metadata": {},
   "source": [
    "## Feature engineering\n",
    "Tokenize `text` into features using CountVectorizer. To do this, Jieba tokenizer is used for Chinese tokenization.\n",
    "Steps:\n",
    "1. First remove all HTML markup \n",
    "2. Convert trad to simp\n",
    "3. Remove all punctuations and empty token"
   ]
  },
  {
   "cell_type": "code",
   "execution_count": 9,
   "metadata": {},
   "outputs": [],
   "source": [
    "def text_tokenizer(text):\n",
    "    soup = BeautifulSoup(text) #Remove HTML\n",
    "    return list(filter(lambda y: len(y) > 1,\n",
    "            map(lambda x: re.sub(\"[！，。～《》：（）【】「」？”“；：、'\\s]\",\"\",x), # Remove punctuations\n",
    "                jieba.cut(HanziConv.toSimplified(soup.get_text())))))"
   ]
  },
  {
   "cell_type": "code",
   "execution_count": 42,
   "metadata": {},
   "outputs": [],
   "source": [
    "count_vectorizer = CountVectorizer(tokenizer=text_tokenizer, max_features=5000)"
   ]
  },
  {
   "cell_type": "markdown",
   "metadata": {},
   "source": [
    "Fit vectorizer and transform to feature"
   ]
  },
  {
   "cell_type": "code",
   "execution_count": 43,
   "metadata": {},
   "outputs": [],
   "source": [
    "X= count_vectorizer.fit_transform(train_df['text'])"
   ]
  },
  {
   "cell_type": "code",
   "execution_count": 44,
   "metadata": {},
   "outputs": [
    {
     "data": {
      "text/plain": [
       "(2725, 5000)"
      ]
     },
     "execution_count": 44,
     "metadata": {},
     "output_type": "execute_result"
    }
   ],
   "source": [
    "X.shape"
   ]
  },
  {
   "cell_type": "markdown",
   "metadata": {},
   "source": [
    "Convert Lable to encoding"
   ]
  },
  {
   "cell_type": "code",
   "execution_count": 45,
   "metadata": {},
   "outputs": [],
   "source": [
    "tags_enc = preprocessing.LabelEncoder()\n",
    "tags_enc.fit(train_df['tags'])\n",
    "y = tags_enc.transform(train_df['tags'])"
   ]
  },
  {
   "cell_type": "markdown",
   "metadata": {},
   "source": [
    "## Create classification model - SVM with RBF kernal\n",
    "Trying SVM for this classification problem. Tune hyperparmaeters using grid search with cross validation"
   ]
  },
  {
   "cell_type": "code",
   "execution_count": 46,
   "metadata": {},
   "outputs": [],
   "source": [
    "params = [{'kernel': ['rbf'], 'gamma': [1e-3, 1e-4, 1e-5],\n",
    "                     'C': [1, 10, 100]}]"
   ]
  },
  {
   "cell_type": "code",
   "execution_count": 47,
   "metadata": {},
   "outputs": [
    {
     "data": {
      "text/plain": [
       "GridSearchCV(cv=3, error_score='raise-deprecating',\n",
       "       estimator=SVC(C=1.0, cache_size=200, class_weight=None, coef0=0.0,\n",
       "  decision_function_shape='ovr', degree=3, gamma='auto_deprecated',\n",
       "  kernel='rbf', max_iter=-1, probability=False, random_state=None,\n",
       "  shrinking=True, tol=0.001, verbose=False),\n",
       "       fit_params=None, iid='warn', n_jobs=None,\n",
       "       param_grid=[{'kernel': ['rbf'], 'C': [1, 10, 100], 'gamma': [0.001, 0.0001, 1e-05]}],\n",
       "       pre_dispatch='2*n_jobs', refit=True, return_train_score='warn',\n",
       "       scoring=None, verbose=0)"
      ]
     },
     "execution_count": 47,
     "metadata": {},
     "output_type": "execute_result"
    }
   ],
   "source": [
    "clf = GridSearchCV(SVC(), params, cv=3)\n",
    "clf.fit(X, y)"
   ]
  },
  {
   "cell_type": "code",
   "execution_count": 48,
   "metadata": {},
   "outputs": [
    {
     "data": {
      "text/plain": [
       "{'C': 100, 'gamma': 0.0001, 'kernel': 'rbf'}"
      ]
     },
     "execution_count": 48,
     "metadata": {},
     "output_type": "execute_result"
    }
   ],
   "source": [
    "clf.best_params_"
   ]
  },
  {
   "cell_type": "code",
   "execution_count": 49,
   "metadata": {},
   "outputs": [
    {
     "name": "stdout",
     "output_type": "stream",
     "text": [
      "0.984 (+/-0.005) for {'gamma': 0.001, 'C': 1, 'kernel': 'rbf'}\n",
      "0.969 (+/-0.002) for {'gamma': 0.0001, 'C': 1, 'kernel': 'rbf'}\n",
      "0.745 (+/-0.008) for {'gamma': 1e-05, 'C': 1, 'kernel': 'rbf'}\n",
      "0.987 (+/-0.006) for {'gamma': 0.001, 'C': 10, 'kernel': 'rbf'}\n",
      "0.986 (+/-0.004) for {'gamma': 0.0001, 'C': 10, 'kernel': 'rbf'}\n",
      "0.971 (+/-0.001) for {'gamma': 1e-05, 'C': 10, 'kernel': 'rbf'}\n",
      "0.986 (+/-0.007) for {'gamma': 0.001, 'C': 100, 'kernel': 'rbf'}\n",
      "0.988 (+/-0.003) for {'gamma': 0.0001, 'C': 100, 'kernel': 'rbf'}\n",
      "0.987 (+/-0.005) for {'gamma': 1e-05, 'C': 100, 'kernel': 'rbf'}\n"
     ]
    }
   ],
   "source": [
    "means = clf.cv_results_['mean_test_score']\n",
    "stds = clf.cv_results_['std_test_score']\n",
    "for mean, std, params in zip(means, stds, clf.cv_results_['params']):\n",
    "    print(\"%0.3f (+/-%0.03f) for %r\" % (mean, std * 2, params))"
   ]
  },
  {
   "cell_type": "markdown",
   "metadata": {},
   "source": [
    "Check performance with test set"
   ]
  },
  {
   "cell_type": "code",
   "execution_count": 50,
   "metadata": {},
   "outputs": [
    {
     "name": "stdout",
     "output_type": "stream",
     "text": [
      "              precision    recall  f1-score   support\n",
      "\n",
      "           0       0.99      0.99      0.99       267\n",
      "           1       1.00      0.99      0.99       231\n",
      "           2       0.99      1.00      1.00       671\n",
      "\n",
      "   micro avg       0.99      0.99      0.99      1169\n",
      "   macro avg       0.99      0.99      0.99      1169\n",
      "weighted avg       0.99      0.99      0.99      1169\n",
      "\n"
     ]
    }
   ],
   "source": [
    "test_df.reset_index()\n",
    "y_test = tags_enc.transform(test_df['tags'])\n",
    "X_test = count_vectorizer.transform(test_df['text'])\n",
    "print(classification_report(y_test, clf.predict(X_test)))"
   ]
  },
  {
   "cell_type": "markdown",
   "metadata": {},
   "source": [
    "## Generate predictions on final test set"
   ]
  },
  {
   "cell_type": "code",
   "execution_count": 55,
   "metadata": {},
   "outputs": [],
   "source": [
    "final_test_df = pd.read_csv('offsite-test-material/offsite-tagging-test-set (1).csv')"
   ]
  },
  {
   "cell_type": "code",
   "execution_count": 56,
   "metadata": {},
   "outputs": [],
   "source": [
    "ft_X = count_vectorizer.transform(final_test_df.text)\n",
    "pred_y = clf.predict(ft_X)"
   ]
  },
  {
   "cell_type": "code",
   "execution_count": 57,
   "metadata": {},
   "outputs": [],
   "source": [
    "final_test_df['predicted_tag']=pd.Series(tags_enc.inverse_transform(pred_y), index=final_test_df.index)"
   ]
  },
  {
   "cell_type": "code",
   "execution_count": 59,
   "metadata": {},
   "outputs": [
    {
     "data": {
      "text/html": [
       "<div>\n",
       "<style scoped>\n",
       "    .dataframe tbody tr th:only-of-type {\n",
       "        vertical-align: middle;\n",
       "    }\n",
       "\n",
       "    .dataframe tbody tr th {\n",
       "        vertical-align: top;\n",
       "    }\n",
       "\n",
       "    .dataframe thead th {\n",
       "        text-align: right;\n",
       "    }\n",
       "</style>\n",
       "<table border=\"1\" class=\"dataframe\">\n",
       "  <thead>\n",
       "    <tr style=\"text-align: right;\">\n",
       "      <th></th>\n",
       "      <th>id</th>\n",
       "      <th>text</th>\n",
       "      <th>predicted_tag</th>\n",
       "    </tr>\n",
       "  </thead>\n",
       "  <tbody>\n",
       "    <tr>\n",
       "      <th>0</th>\n",
       "      <td>6</td>\n",
       "      <td>南華添鋒力　簽前厄瓜多爾國腳保耶 港超勁旅南華宣布羅致前厄瓜多爾國腳菲力斯保耶（Felix ...</td>\n",
       "      <td>足球</td>\n",
       "    </tr>\n",
       "    <tr>\n",
       "      <th>1</th>\n",
       "      <td>128</td>\n",
       "      <td>如果大學$0捐款　科大嶺南將蝕過千萬元 據now新聞台報道，身兼8大校監的特首梁振英曾以大學...</td>\n",
       "      <td>梁振英</td>\n",
       "    </tr>\n",
       "    <tr>\n",
       "      <th>2</th>\n",
       "      <td>136</td>\n",
       "      <td>英超最強火力對碰　雙城爭冠靠鋒霸 英超今季風起雲湧，傳統「Big 5」只剩兩隊名列積分榜前5...</td>\n",
       "      <td>足球</td>\n",
       "    </tr>\n",
       "    <tr>\n",
       "      <th>3</th>\n",
       "      <td>213</td>\n",
       "      <td>【01球評】膺半程冠軍　阿仙奴今季不奪標更待何時？ 近年「兵工廠」每季的起落都離不開一個循環...</td>\n",
       "      <td>足球</td>\n",
       "    </tr>\n",
       "    <tr>\n",
       "      <th>4</th>\n",
       "      <td>658</td>\n",
       "      <td>【書商失蹤】梁振英：希望失蹤的李波本人提供資料 行政長官梁振英出席行政會議前見記者，被問及李...</td>\n",
       "      <td>梁振英</td>\n",
       "    </tr>\n",
       "    <tr>\n",
       "      <th>5</th>\n",
       "      <td>700</td>\n",
       "      <td>【施政盤點】三份施政報告　僅一半政策達標 行政長官梁振英即將公布任內第四份施政報告，《香港0...</td>\n",
       "      <td>梁振英</td>\n",
       "    </tr>\n",
       "    <tr>\n",
       "      <th>6</th>\n",
       "      <td>729</td>\n",
       "      <td>【施政盤點】「治港絕招」　設19委員會　空談多實務少 行政長官梁振英上任3年多，先後成立多個...</td>\n",
       "      <td>梁振英</td>\n",
       "    </tr>\n",
       "    <tr>\n",
       "      <th>7</th>\n",
       "      <td>837</td>\n",
       "      <td>高普首簽　「新馬迪」來季投紅軍 利物浦傷兵滿營及戰績不穩，主帥高普仍不忘投資未來，昨以510...</td>\n",
       "      <td>足球</td>\n",
       "    </tr>\n",
       "    <tr>\n",
       "      <th>8</th>\n",
       "      <td>1037</td>\n",
       "      <td>「最潮主帥」鬥利物浦：我已領先1：0 英乙球隊埃克塞特在明晨的足總盃於主場迎戰利物浦，雖然越...</td>\n",
       "      <td>足球</td>\n",
       "    </tr>\n",
       "    <tr>\n",
       "      <th>9</th>\n",
       "      <td>1095</td>\n",
       "      <td>紅軍超殘陣逼和英乙隊　高普：負擔不起重賽 逾十名球員受傷的利物浦，今晨在足總盃第三圈以大部份...</td>\n",
       "      <td>足球</td>\n",
       "    </tr>\n",
       "    <tr>\n",
       "      <th>10</th>\n",
       "      <td>1113</td>\n",
       "      <td>【施丹上馬】皇馬六條A　退下來各自精彩　僅卡路士教波 2003年碧咸轉投皇家馬德里，與施丹、...</td>\n",
       "      <td>足球</td>\n",
       "    </tr>\n",
       "    <tr>\n",
       "      <th>11</th>\n",
       "      <td>1153</td>\n",
       "      <td>【施丹上馬】踢而優則教　碧根鮑華告魯夫完美球王 足球史上，獲譽為球王的寥寥可數，踢而優則教的...</td>\n",
       "      <td>足球</td>\n",
       "    </tr>\n",
       "    <tr>\n",
       "      <th>12</th>\n",
       "      <td>1200</td>\n",
       "      <td>【01球評】施丹首戰　回歸原點抄足肥安　防守毛病未解決 所謂「新官上任三把火」，不過從皇家馬...</td>\n",
       "      <td>足球</td>\n",
       "    </tr>\n",
       "    <tr>\n",
       "      <th>13</th>\n",
       "      <td>1261</td>\n",
       "      <td>新兵白鶴對辦　東方大破南華踞榜首現霸氣 星期日下午的港超榜首大戰，東方在4130名觀眾面前盡...</td>\n",
       "      <td>足球</td>\n",
       "    </tr>\n",
       "    <tr>\n",
       "      <th>14</th>\n",
       "      <td>1332</td>\n",
       "      <td>【意甲半程總結】四軍混戰　拿玻里勢破祖記壟斷 兵多將廣　拿玻里攻上榜首\\r\\r\\n\\r\\r\\...</td>\n",
       "      <td>足球</td>\n",
       "    </tr>\n",
       "    <tr>\n",
       "      <th>15</th>\n",
       "      <td>1374</td>\n",
       "      <td>【01球評】協同效應+品牌角力　美斯C朗壟斷金球獎 「美斯定C朗？」球迷間討論的問題，在明晨...</td>\n",
       "      <td>足球</td>\n",
       "    </tr>\n",
       "    <tr>\n",
       "      <th>16</th>\n",
       "      <td>1407</td>\n",
       "      <td>金球獎合併5年　首屆美斯得獎爭議最大 自國際足協在2010年把世界足球先生及《法國足球》的歐...</td>\n",
       "      <td>足球</td>\n",
       "    </tr>\n",
       "    <tr>\n",
       "      <th>17</th>\n",
       "      <td>1564</td>\n",
       "      <td>梁振英批司法覆核遭濫用　對政府代價大 現任終院首席法官馬道立日前強調，司法覆核維護公眾利益，...</td>\n",
       "      <td>梁振英</td>\n",
       "    </tr>\n",
       "    <tr>\n",
       "      <th>18</th>\n",
       "      <td>1643</td>\n",
       "      <td>【港大民調】支持度僅37%創新低　數據顯示董曾梁一蟹不如一蟹 特首梁振英昨日宣讀施政報告，香...</td>\n",
       "      <td>梁振英</td>\n",
       "    </tr>\n",
       "    <tr>\n",
       "      <th>19</th>\n",
       "      <td>1667</td>\n",
       "      <td>【獨家民調】梁治三年　市民最不滿政制司法　最滿意房屋規劃 今年的施政報告重點力推一帶一路經濟...</td>\n",
       "      <td>梁振英</td>\n",
       "    </tr>\n",
       "    <tr>\n",
       "      <th>20</th>\n",
       "      <td>1776</td>\n",
       "      <td>奧巴馬炮轟特朗普耍選戰手段　承認未能團結美國 美國總統奧巴馬在電視節目上，批評共和黨總統參選...</td>\n",
       "      <td>美國大選</td>\n",
       "    </tr>\n",
       "    <tr>\n",
       "      <th>21</th>\n",
       "      <td>1831</td>\n",
       "      <td>【施政報告】預留20億元成立創科創投基金 行政長官梁振英在新一份施政報告提到本港創新科技發展...</td>\n",
       "      <td>梁振英</td>\n",
       "    </tr>\n",
       "    <tr>\n",
       "      <th>22</th>\n",
       "      <td>2011</td>\n",
       "      <td>由象徵式政策到象徵式施政報告 師父教落，自我介紹中說出來的，通常都不重要，沒有說出來的才重要...</td>\n",
       "      <td>梁振英</td>\n",
       "    </tr>\n",
       "    <tr>\n",
       "      <th>23</th>\n",
       "      <td>2036</td>\n",
       "      <td>【施政報告】工聯會考慮不支持梁振英　梁連任夢添陰霾 行政長官梁振英發表任內第4份《施政報告》...</td>\n",
       "      <td>梁振英</td>\n",
       "    </tr>\n",
       "    <tr>\n",
       "      <th>24</th>\n",
       "      <td>2040</td>\n",
       "      <td>港美同日發表施政藍圖　梁振英奧巴馬4大看點 演說長度奧巴馬　58分44秒\\r\\r\\n梁振英 ...</td>\n",
       "      <td>梁振英</td>\n",
       "    </tr>\n",
       "    <tr>\n",
       "      <th>25</th>\n",
       "      <td>2176</td>\n",
       "      <td>【獨家民調】青年人拒撐梁　無學生支持梁振英連任特首 梁振英昨日（13日）發表《施政報告》後，...</td>\n",
       "      <td>梁振英</td>\n",
       "    </tr>\n",
       "    <tr>\n",
       "      <th>26</th>\n",
       "      <td>2221</td>\n",
       "      <td>港中戰球迷噓國歌　FIFA再罰香港足總7.7萬 去年「11‧17」港中大戰餘波未了，國際足協...</td>\n",
       "      <td>足球</td>\n",
       "    </tr>\n",
       "    <tr>\n",
       "      <th>27</th>\n",
       "      <td>2254</td>\n",
       "      <td>【01拆局】曾俊華民望雖高　未獲左派認可　與泛民友好成雙刃劍 特首梁振英新一份施政報告劣評如...</td>\n",
       "      <td>梁振英</td>\n",
       "    </tr>\n",
       "    <tr>\n",
       "      <th>28</th>\n",
       "      <td>2287</td>\n",
       "      <td>【港足日與夜】從日與夜開始　了解五個香港足球員的故事 經歷去年世界盃外圍賽的熱潮，香港足球再...</td>\n",
       "      <td>足球</td>\n",
       "    </tr>\n",
       "    <tr>\n",
       "      <th>29</th>\n",
       "      <td>2327</td>\n",
       "      <td>【施政報告】梁振英：即使當年有普選我仍會當選 今年《施政報告》被指「區議會化」，及變成「一帶...</td>\n",
       "      <td>梁振英</td>\n",
       "    </tr>\n",
       "  </tbody>\n",
       "</table>\n",
       "</div>"
      ],
      "text/plain": [
       "      id                                               text predicted_tag\n",
       "0      6  南華添鋒力　簽前厄瓜多爾國腳保耶 港超勁旅南華宣布羅致前厄瓜多爾國腳菲力斯保耶（Felix ...            足球\n",
       "1    128  如果大學$0捐款　科大嶺南將蝕過千萬元 據now新聞台報道，身兼8大校監的特首梁振英曾以大學...           梁振英\n",
       "2    136  英超最強火力對碰　雙城爭冠靠鋒霸 英超今季風起雲湧，傳統「Big 5」只剩兩隊名列積分榜前5...            足球\n",
       "3    213  【01球評】膺半程冠軍　阿仙奴今季不奪標更待何時？ 近年「兵工廠」每季的起落都離不開一個循環...            足球\n",
       "4    658  【書商失蹤】梁振英：希望失蹤的李波本人提供資料 行政長官梁振英出席行政會議前見記者，被問及李...           梁振英\n",
       "5    700  【施政盤點】三份施政報告　僅一半政策達標 行政長官梁振英即將公布任內第四份施政報告，《香港0...           梁振英\n",
       "6    729  【施政盤點】「治港絕招」　設19委員會　空談多實務少 行政長官梁振英上任3年多，先後成立多個...           梁振英\n",
       "7    837  高普首簽　「新馬迪」來季投紅軍 利物浦傷兵滿營及戰績不穩，主帥高普仍不忘投資未來，昨以510...            足球\n",
       "8   1037  「最潮主帥」鬥利物浦：我已領先1：0 英乙球隊埃克塞特在明晨的足總盃於主場迎戰利物浦，雖然越...            足球\n",
       "9   1095  紅軍超殘陣逼和英乙隊　高普：負擔不起重賽 逾十名球員受傷的利物浦，今晨在足總盃第三圈以大部份...            足球\n",
       "10  1113  【施丹上馬】皇馬六條A　退下來各自精彩　僅卡路士教波 2003年碧咸轉投皇家馬德里，與施丹、...            足球\n",
       "11  1153  【施丹上馬】踢而優則教　碧根鮑華告魯夫完美球王 足球史上，獲譽為球王的寥寥可數，踢而優則教的...            足球\n",
       "12  1200  【01球評】施丹首戰　回歸原點抄足肥安　防守毛病未解決 所謂「新官上任三把火」，不過從皇家馬...            足球\n",
       "13  1261  新兵白鶴對辦　東方大破南華踞榜首現霸氣 星期日下午的港超榜首大戰，東方在4130名觀眾面前盡...            足球\n",
       "14  1332  【意甲半程總結】四軍混戰　拿玻里勢破祖記壟斷 兵多將廣　拿玻里攻上榜首\\r\\r\\n\\r\\r\\...            足球\n",
       "15  1374  【01球評】協同效應+品牌角力　美斯C朗壟斷金球獎 「美斯定C朗？」球迷間討論的問題，在明晨...            足球\n",
       "16  1407  金球獎合併5年　首屆美斯得獎爭議最大 自國際足協在2010年把世界足球先生及《法國足球》的歐...            足球\n",
       "17  1564  梁振英批司法覆核遭濫用　對政府代價大 現任終院首席法官馬道立日前強調，司法覆核維護公眾利益，...           梁振英\n",
       "18  1643  【港大民調】支持度僅37%創新低　數據顯示董曾梁一蟹不如一蟹 特首梁振英昨日宣讀施政報告，香...           梁振英\n",
       "19  1667  【獨家民調】梁治三年　市民最不滿政制司法　最滿意房屋規劃 今年的施政報告重點力推一帶一路經濟...           梁振英\n",
       "20  1776  奧巴馬炮轟特朗普耍選戰手段　承認未能團結美國 美國總統奧巴馬在電視節目上，批評共和黨總統參選...          美國大選\n",
       "21  1831  【施政報告】預留20億元成立創科創投基金 行政長官梁振英在新一份施政報告提到本港創新科技發展...           梁振英\n",
       "22  2011  由象徵式政策到象徵式施政報告 師父教落，自我介紹中說出來的，通常都不重要，沒有說出來的才重要...           梁振英\n",
       "23  2036  【施政報告】工聯會考慮不支持梁振英　梁連任夢添陰霾 行政長官梁振英發表任內第4份《施政報告》...           梁振英\n",
       "24  2040  港美同日發表施政藍圖　梁振英奧巴馬4大看點 演說長度奧巴馬　58分44秒\\r\\r\\n梁振英 ...           梁振英\n",
       "25  2176  【獨家民調】青年人拒撐梁　無學生支持梁振英連任特首 梁振英昨日（13日）發表《施政報告》後，...           梁振英\n",
       "26  2221  港中戰球迷噓國歌　FIFA再罰香港足總7.7萬 去年「11‧17」港中大戰餘波未了，國際足協...            足球\n",
       "27  2254  【01拆局】曾俊華民望雖高　未獲左派認可　與泛民友好成雙刃劍 特首梁振英新一份施政報告劣評如...           梁振英\n",
       "28  2287  【港足日與夜】從日與夜開始　了解五個香港足球員的故事 經歷去年世界盃外圍賽的熱潮，香港足球再...            足球\n",
       "29  2327  【施政報告】梁振英：即使當年有普選我仍會當選 今年《施政報告》被指「區議會化」，及變成「一帶...           梁振英"
      ]
     },
     "execution_count": 59,
     "metadata": {},
     "output_type": "execute_result"
    }
   ],
   "source": [
    "final_test_df.head(30)"
   ]
  },
  {
   "cell_type": "code",
   "execution_count": 60,
   "metadata": {},
   "outputs": [],
   "source": [
    "final_test_df.to_csv('prediction.csv')"
   ]
  }
 ],
 "metadata": {
  "kernelspec": {
   "display_name": "Python 3",
   "language": "python",
   "name": "python3"
  },
  "language_info": {
   "codemirror_mode": {
    "name": "ipython",
    "version": 3
   },
   "file_extension": ".py",
   "mimetype": "text/x-python",
   "name": "python",
   "nbconvert_exporter": "python",
   "pygments_lexer": "ipython3",
   "version": "3.5.3"
  }
 },
 "nbformat": 4,
 "nbformat_minor": 2
}
