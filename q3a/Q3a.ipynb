{
 "cells": [
  {
   "cell_type": "markdown",
   "metadata": {},
   "source": [
    "## Question\n",
    "1. Model performance can refer to the [Classification Report](#Classification-Report) and [Confusion matrices](#Confusion-Matrix). The model have around 99% accuracy on tagging '美國大選' and '足球' and 98% accuracy on tagging '梁振英'.\n",
    "2. The model are tuned based on the provided label data. I split the data into 70/30 for training set and test set. And using cross validation + grid search to find the best parameters that can generate a model achrived best score. And the model will check with the test set to see whether the performance persist in order to check whether we have a overfitting model. There are some parameters and options needed to adjust during model tunning:\n",
    "  1. Feature extraction methods. I plan to extract features from text using the vectorization technique. Most common way are CountVectorizer and TFIDFVectorizer and selected the method based on the score.\n",
    "  2. Numbers of features. After vectorized the text, there are over 60k features and we know that not all the features are useful and could decrease the model accuracy. By adjusting the `max_features` parameters we could check the performace of the model when we are reducing the # of features. The optimal size is `10000` based of the given data.\n",
    "  3.Kernel. This is the core part of SVM. Beside testing with the default `rbf` kernel. `linear` kenrnel are also listed in the grid search params. As the # of features is large and relative small # of traning sample. `linear` or `logistic regression` could perform pretty well and the time for training with `linear` kernel is much faster.\n",
    "  4. Using grid search for hyperparmater selection with cross validation. Using 3 as the fold. Every set of parameters will have 3 set of different training and validation set data which size are 7 to 3. By that we can get a much fair score given we have limited numbers of training samples.\n",
    "3. The model is created base on the text data. In the training phase, we vectorize the text in training data to get the features. Custom tokenizer is used for building the features map. The tokenizer is working in this way: First, clean the text by removing the HTML markup. Convert it to simpified Chinese and tokenzied it (trad to simp is because the tokenizer I am using have a much better performance in simp Chinese). Filter out all useless tokens which are punctuations, empty token, and word with length smaller than 2 (In Chinese words single characters generally have much lower importance).  \n",
    "For the label, we encode the Chinese label using LabelEncoder so we can get the label as integer which can be used for SVC. After the feature extraction then will go to the training phase which many things are described in Q2, and we got the best SVM model.\n",
    "The linear SVM model basically is to learn the decision boundary that seperate different classes of training data with the largest distance or margins.\n",
    "In the prediction phase, we use the vectorizer fitted with the training data previously to build features for the text. Use that as a input to the model and the model will provide the class label as a output. Similarily we use the fitted LabelEncoder to retrieve back the original Chinese Label."
   ]
  },
  {
   "cell_type": "code",
   "execution_count": 1,
   "metadata": {},
   "outputs": [],
   "source": [
    "import pandas as pd"
   ]
  },
  {
   "cell_type": "code",
   "execution_count": 2,
   "metadata": {},
   "outputs": [],
   "source": [
    "# For text clean up and tokenization\n",
    "from bs4 import BeautifulSoup\n",
    "from hanziconv import HanziConv\n",
    "import jieba\n",
    "import re"
   ]
  },
  {
   "cell_type": "code",
   "execution_count": 3,
   "metadata": {},
   "outputs": [],
   "source": [
    "from sklearn.model_selection import train_test_split\n",
    "from sklearn.feature_extraction.text import CountVectorizer\n",
    "from sklearn import preprocessing\n",
    "from sklearn.model_selection import GridSearchCV\n",
    "from sklearn.model_selection import train_test_split\n",
    "from sklearn.svm import SVC\n",
    "from sklearn.metrics import classification_report"
   ]
  },
  {
   "cell_type": "code",
   "execution_count": 67,
   "metadata": {},
   "outputs": [],
   "source": [
    "import matplotlib.pyplot as plt\n",
    "from sklearn.metrics import confusion_matrix\n",
    "import numpy as np\n",
    "import itertools\n",
    "import matplotlib.font_manager as mfm"
   ]
  },
  {
   "cell_type": "markdown",
   "metadata": {},
   "source": [
    "## Data Exploration  \n",
    "See how's the labeled data looks like"
   ]
  },
  {
   "cell_type": "code",
   "execution_count": 4,
   "metadata": {},
   "outputs": [
    {
     "data": {
      "text/html": [
       "<div>\n",
       "<style scoped>\n",
       "    .dataframe tbody tr th:only-of-type {\n",
       "        vertical-align: middle;\n",
       "    }\n",
       "\n",
       "    .dataframe tbody tr th {\n",
       "        vertical-align: top;\n",
       "    }\n",
       "\n",
       "    .dataframe thead th {\n",
       "        text-align: right;\n",
       "    }\n",
       "</style>\n",
       "<table border=\"1\" class=\"dataframe\">\n",
       "  <thead>\n",
       "    <tr style=\"text-align: right;\">\n",
       "      <th></th>\n",
       "      <th>id</th>\n",
       "      <th>tags</th>\n",
       "      <th>text</th>\n",
       "    </tr>\n",
       "  </thead>\n",
       "  <tbody>\n",
       "    <tr>\n",
       "      <th>0</th>\n",
       "      <td>3443</td>\n",
       "      <td>足球</td>\n",
       "      <td>利物浦重賽擊敗乙組仔　英足盃過關 英格蘭足總盃第三圈今晨重賽，貴為英超勁旅的利物浦上場被乙組...</td>\n",
       "    </tr>\n",
       "    <tr>\n",
       "      <th>1</th>\n",
       "      <td>76056</td>\n",
       "      <td>足球</td>\n",
       "      <td>【中超】恒大「暴力戰」絕殺國安　楊智反重力插水惹爭議（有片） 中超首輪賽事重頭戲，廣州恒大主...</td>\n",
       "    </tr>\n",
       "    <tr>\n",
       "      <th>2</th>\n",
       "      <td>93405</td>\n",
       "      <td>足球</td>\n",
       "      <td>【歐霸決賽】阿積士控球率起腳佔優　隊長卡拉臣輸波不服氣 阿積士以歐洲主要決賽最年輕、平均22...</td>\n",
       "    </tr>\n",
       "    <tr>\n",
       "      <th>3</th>\n",
       "      <td>26767</td>\n",
       "      <td>足球</td>\n",
       "      <td>【歐國盃】韋莫斯澄清更衣室未內訌　盼以團結力量挫愛爾蘭 今晚3場直播\\r\\r\\nE組｜比利時...</td>\n",
       "    </tr>\n",
       "    <tr>\n",
       "      <th>4</th>\n",
       "      <td>20843</td>\n",
       "      <td>梁振英</td>\n",
       "      <td>王維基參選　點解？ 王維基在宣布有意出選的記者會上，打出ABC，Anyone But CY的...</td>\n",
       "    </tr>\n",
       "    <tr>\n",
       "      <th>5</th>\n",
       "      <td>74481</td>\n",
       "      <td>足球</td>\n",
       "      <td>【港超】大埔5：1炒飛馬　近7仗第5勝　與前四只差兩分 港超周日早場便出現大比數戰果，主場出...</td>\n",
       "    </tr>\n",
       "    <tr>\n",
       "      <th>6</th>\n",
       "      <td>52914</td>\n",
       "      <td>美國大選</td>\n",
       "      <td>回看內政兩大建樹　奧巴馬醫保前景難料　亮麗經濟數字埋隱憂 在任近8年，美國總統奧巴馬在內政上...</td>\n",
       "    </tr>\n",
       "    <tr>\n",
       "      <th>7</th>\n",
       "      <td>94059</td>\n",
       "      <td>足球</td>\n",
       "      <td>【牛丸退任圖輯】一年半狂破紀錄　由銅紫荊星章到亞洲最佳女教練 從來，女教練執教男子職業足球隊...</td>\n",
       "    </tr>\n",
       "    <tr>\n",
       "      <th>8</th>\n",
       "      <td>41325</td>\n",
       "      <td>足球</td>\n",
       "      <td>【足球】拉爾拉拿絕殺　艾拿戴斯︰英格蘭首捷因幸運硬幣 英格蘭主帥艾拿戴斯首戰取得好開始，憑拉...</td>\n",
       "    </tr>\n",
       "    <tr>\n",
       "      <th>9</th>\n",
       "      <td>5203</td>\n",
       "      <td>美國大選</td>\n",
       "      <td>美國民主共和兩黨初選早期重要日子 二月三月 &lt;p&gt;&lt;span style=\"font-siz...</td>\n",
       "    </tr>\n",
       "  </tbody>\n",
       "</table>\n",
       "</div>"
      ],
      "text/plain": [
       "      id  tags                                               text\n",
       "0   3443    足球  利物浦重賽擊敗乙組仔　英足盃過關 英格蘭足總盃第三圈今晨重賽，貴為英超勁旅的利物浦上場被乙組...\n",
       "1  76056    足球  【中超】恒大「暴力戰」絕殺國安　楊智反重力插水惹爭議（有片） 中超首輪賽事重頭戲，廣州恒大主...\n",
       "2  93405    足球  【歐霸決賽】阿積士控球率起腳佔優　隊長卡拉臣輸波不服氣 阿積士以歐洲主要決賽最年輕、平均22...\n",
       "3  26767    足球  【歐國盃】韋莫斯澄清更衣室未內訌　盼以團結力量挫愛爾蘭 今晚3場直播\\r\\r\\nE組｜比利時...\n",
       "4  20843   梁振英  王維基參選　點解？ 王維基在宣布有意出選的記者會上，打出ABC，Anyone But CY的...\n",
       "5  74481    足球  【港超】大埔5：1炒飛馬　近7仗第5勝　與前四只差兩分 港超周日早場便出現大比數戰果，主場出...\n",
       "6  52914  美國大選  回看內政兩大建樹　奧巴馬醫保前景難料　亮麗經濟數字埋隱憂 在任近8年，美國總統奧巴馬在內政上...\n",
       "7  94059    足球  【牛丸退任圖輯】一年半狂破紀錄　由銅紫荊星章到亞洲最佳女教練 從來，女教練執教男子職業足球隊...\n",
       "8  41325    足球  【足球】拉爾拉拿絕殺　艾拿戴斯︰英格蘭首捷因幸運硬幣 英格蘭主帥艾拿戴斯首戰取得好開始，憑拉...\n",
       "9   5203  美國大選  美國民主共和兩黨初選早期重要日子 二月三月 <p><span style=\"font-siz..."
      ]
     },
     "execution_count": 4,
     "metadata": {},
     "output_type": "execute_result"
    }
   ],
   "source": [
    "df = pd.read_csv('offsite-test-material/offsite-tagging-training-set (1).csv')\n",
    "df.head(10)"
   ]
  },
  {
   "cell_type": "markdown",
   "metadata": {},
   "source": [
    "### Check tags \n",
    "See the distribution amount the traning set"
   ]
  },
  {
   "cell_type": "code",
   "execution_count": 5,
   "metadata": {},
   "outputs": [
    {
     "data": {
      "text/html": [
       "<div>\n",
       "<style scoped>\n",
       "    .dataframe tbody tr th:only-of-type {\n",
       "        vertical-align: middle;\n",
       "    }\n",
       "\n",
       "    .dataframe tbody tr th {\n",
       "        vertical-align: top;\n",
       "    }\n",
       "\n",
       "    .dataframe thead th {\n",
       "        text-align: right;\n",
       "    }\n",
       "</style>\n",
       "<table border=\"1\" class=\"dataframe\">\n",
       "  <thead>\n",
       "    <tr style=\"text-align: right;\">\n",
       "      <th></th>\n",
       "      <th>tags</th>\n",
       "      <th>count</th>\n",
       "      <th>percentages</th>\n",
       "    </tr>\n",
       "  </thead>\n",
       "  <tbody>\n",
       "    <tr>\n",
       "      <th>0</th>\n",
       "      <td>梁振英</td>\n",
       "      <td>929</td>\n",
       "      <td>23.857216</td>\n",
       "    </tr>\n",
       "    <tr>\n",
       "      <th>1</th>\n",
       "      <td>美國大選</td>\n",
       "      <td>842</td>\n",
       "      <td>21.623010</td>\n",
       "    </tr>\n",
       "    <tr>\n",
       "      <th>2</th>\n",
       "      <td>足球</td>\n",
       "      <td>2123</td>\n",
       "      <td>54.519774</td>\n",
       "    </tr>\n",
       "  </tbody>\n",
       "</table>\n",
       "</div>"
      ],
      "text/plain": [
       "   tags  count  percentages\n",
       "0   梁振英    929    23.857216\n",
       "1  美國大選    842    21.623010\n",
       "2    足球   2123    54.519774"
      ]
     },
     "execution_count": 5,
     "metadata": {},
     "output_type": "execute_result"
    }
   ],
   "source": [
    "stat_df = pd.DataFrame({'count' : df.groupby( [ \"tags\"] ).size()}).reset_index()\n",
    "stat_df['percentages'] = stat_df['count'] / stat_df['count'].sum() * 100\n",
    "stat_df"
   ]
  },
  {
   "cell_type": "markdown",
   "metadata": {},
   "source": [
    "## Split data for train and test\n",
    "70% data for training  \n",
    "30% data for testing"
   ]
  },
  {
   "cell_type": "code",
   "execution_count": 6,
   "metadata": {},
   "outputs": [],
   "source": [
    "train_df, test_df = train_test_split(df, test_size=0.3)"
   ]
  },
  {
   "cell_type": "code",
   "execution_count": 7,
   "metadata": {},
   "outputs": [
    {
     "data": {
      "text/html": [
       "<div>\n",
       "<style scoped>\n",
       "    .dataframe tbody tr th:only-of-type {\n",
       "        vertical-align: middle;\n",
       "    }\n",
       "\n",
       "    .dataframe tbody tr th {\n",
       "        vertical-align: top;\n",
       "    }\n",
       "\n",
       "    .dataframe thead th {\n",
       "        text-align: right;\n",
       "    }\n",
       "</style>\n",
       "<table border=\"1\" class=\"dataframe\">\n",
       "  <thead>\n",
       "    <tr style=\"text-align: right;\">\n",
       "      <th></th>\n",
       "      <th>tags</th>\n",
       "      <th>count</th>\n",
       "      <th>percentages</th>\n",
       "    </tr>\n",
       "  </thead>\n",
       "  <tbody>\n",
       "    <tr>\n",
       "      <th>0</th>\n",
       "      <td>梁振英</td>\n",
       "      <td>640</td>\n",
       "      <td>23.486239</td>\n",
       "    </tr>\n",
       "    <tr>\n",
       "      <th>1</th>\n",
       "      <td>美國大選</td>\n",
       "      <td>595</td>\n",
       "      <td>21.834862</td>\n",
       "    </tr>\n",
       "    <tr>\n",
       "      <th>2</th>\n",
       "      <td>足球</td>\n",
       "      <td>1490</td>\n",
       "      <td>54.678899</td>\n",
       "    </tr>\n",
       "  </tbody>\n",
       "</table>\n",
       "</div>"
      ],
      "text/plain": [
       "   tags  count  percentages\n",
       "0   梁振英    640    23.486239\n",
       "1  美國大選    595    21.834862\n",
       "2    足球   1490    54.678899"
      ]
     },
     "execution_count": 7,
     "metadata": {},
     "output_type": "execute_result"
    }
   ],
   "source": [
    "stat_train_df = pd.DataFrame({'count' : train_df.groupby( [ \"tags\"] ).size()}).reset_index()\n",
    "stat_train_df['percentages'] = stat_train_df['count'] / stat_train_df['count'].sum() * 100\n",
    "stat_train_df"
   ]
  },
  {
   "cell_type": "code",
   "execution_count": 8,
   "metadata": {},
   "outputs": [
    {
     "data": {
      "text/html": [
       "<div>\n",
       "<style scoped>\n",
       "    .dataframe tbody tr th:only-of-type {\n",
       "        vertical-align: middle;\n",
       "    }\n",
       "\n",
       "    .dataframe tbody tr th {\n",
       "        vertical-align: top;\n",
       "    }\n",
       "\n",
       "    .dataframe thead th {\n",
       "        text-align: right;\n",
       "    }\n",
       "</style>\n",
       "<table border=\"1\" class=\"dataframe\">\n",
       "  <thead>\n",
       "    <tr style=\"text-align: right;\">\n",
       "      <th></th>\n",
       "      <th>tags</th>\n",
       "      <th>count</th>\n",
       "      <th>percentages</th>\n",
       "    </tr>\n",
       "  </thead>\n",
       "  <tbody>\n",
       "    <tr>\n",
       "      <th>0</th>\n",
       "      <td>梁振英</td>\n",
       "      <td>289</td>\n",
       "      <td>24.721985</td>\n",
       "    </tr>\n",
       "    <tr>\n",
       "      <th>1</th>\n",
       "      <td>美國大選</td>\n",
       "      <td>247</td>\n",
       "      <td>21.129170</td>\n",
       "    </tr>\n",
       "    <tr>\n",
       "      <th>2</th>\n",
       "      <td>足球</td>\n",
       "      <td>633</td>\n",
       "      <td>54.148845</td>\n",
       "    </tr>\n",
       "  </tbody>\n",
       "</table>\n",
       "</div>"
      ],
      "text/plain": [
       "   tags  count  percentages\n",
       "0   梁振英    289    24.721985\n",
       "1  美國大選    247    21.129170\n",
       "2    足球    633    54.148845"
      ]
     },
     "execution_count": 8,
     "metadata": {},
     "output_type": "execute_result"
    }
   ],
   "source": [
    "stat_test_df = pd.DataFrame({'count' : test_df.groupby( [ \"tags\"] ).size()}).reset_index()\n",
    "stat_test_df['percentages'] = stat_test_df['count'] / stat_test_df['count'].sum() * 100\n",
    "stat_test_df"
   ]
  },
  {
   "cell_type": "markdown",
   "metadata": {},
   "source": [
    "Training set and test set have similiar distribution of tags"
   ]
  },
  {
   "cell_type": "markdown",
   "metadata": {},
   "source": [
    "## Feature engineering\n",
    "Tokenize `text` into features using CountVectorizer. To do this, Jieba tokenizer is used for Chinese tokenization.\n",
    "Steps:\n",
    "1. First remove all HTML markup \n",
    "2. Convert trad to simp\n",
    "3. Remove all punctuations and empty token"
   ]
  },
  {
   "cell_type": "code",
   "execution_count": 9,
   "metadata": {},
   "outputs": [],
   "source": [
    "def text_tokenizer(text):\n",
    "    soup = BeautifulSoup(text) #Remove HTML\n",
    "    return list(filter(lambda y: len(y) > 1,\n",
    "            map(lambda x: re.sub(\"[！，。～《》：（）【】「」？”“；：、'\\s]\",\"\",x), # Remove punctuations\n",
    "                jieba.cut(HanziConv.toSimplified(soup.get_text())))))"
   ]
  },
  {
   "cell_type": "code",
   "execution_count": 46,
   "metadata": {},
   "outputs": [],
   "source": [
    "count_vectorizer = CountVectorizer(tokenizer=text_tokenizer, max_features=10000)"
   ]
  },
  {
   "cell_type": "markdown",
   "metadata": {},
   "source": [
    "Fit vectorizer and transform to feature"
   ]
  },
  {
   "cell_type": "code",
   "execution_count": 47,
   "metadata": {},
   "outputs": [],
   "source": [
    "X= count_vectorizer.fit_transform(train_df['text'])"
   ]
  },
  {
   "cell_type": "code",
   "execution_count": 48,
   "metadata": {},
   "outputs": [
    {
     "data": {
      "text/plain": [
       "(2725, 10000)"
      ]
     },
     "execution_count": 48,
     "metadata": {},
     "output_type": "execute_result"
    }
   ],
   "source": [
    "X.shape"
   ]
  },
  {
   "cell_type": "markdown",
   "metadata": {},
   "source": [
    "Convert Lable to encoding"
   ]
  },
  {
   "cell_type": "code",
   "execution_count": 49,
   "metadata": {},
   "outputs": [],
   "source": [
    "tags_enc = preprocessing.LabelEncoder()\n",
    "tags_enc.fit(train_df['tags'])\n",
    "y = tags_enc.transform(train_df['tags'])"
   ]
  },
  {
   "cell_type": "markdown",
   "metadata": {},
   "source": [
    "## Create classification model - SVM\n",
    "Trying SVM for this classification problem. Tune hyperparmaeters using grid search with cross validation"
   ]
  },
  {
   "cell_type": "code",
   "execution_count": 50,
   "metadata": {},
   "outputs": [],
   "source": [
    "params = [{'kernel': ['rbf'],\n",
    "           'gamma': [1e-3, 1e-4, 1e-5],\n",
    "           'C': [1, 10, 100]\n",
    "          },\n",
    "          {\n",
    "            'kernel': ['linear'],\n",
    "            'C': [0.01, 0.1, 1, 10, 100]\n",
    "          }]"
   ]
  },
  {
   "cell_type": "code",
   "execution_count": 51,
   "metadata": {},
   "outputs": [
    {
     "data": {
      "text/plain": [
       "GridSearchCV(cv=3, error_score='raise-deprecating',\n",
       "       estimator=SVC(C=1.0, cache_size=200, class_weight=None, coef0=0.0,\n",
       "  decision_function_shape='ovr', degree=3, gamma='auto_deprecated',\n",
       "  kernel='rbf', max_iter=-1, probability=False, random_state=None,\n",
       "  shrinking=True, tol=0.001, verbose=False),\n",
       "       fit_params=None, iid='warn', n_jobs=None,\n",
       "       param_grid=[{'gamma': [0.001, 0.0001, 1e-05], 'C': [1, 10, 100], 'kernel': ['rbf']}, {'C': [0.01, 0.1, 1, 10, 100], 'kernel': ['linear']}],\n",
       "       pre_dispatch='2*n_jobs', refit=True, return_train_score='warn',\n",
       "       scoring=None, verbose=0)"
      ]
     },
     "execution_count": 51,
     "metadata": {},
     "output_type": "execute_result"
    }
   ],
   "source": [
    "clf = GridSearchCV(SVC(), params, cv=3)\n",
    "clf.fit(X, y)"
   ]
  },
  {
   "cell_type": "code",
   "execution_count": 52,
   "metadata": {},
   "outputs": [
    {
     "data": {
      "text/plain": [
       "{'C': 0.1, 'kernel': 'linear'}"
      ]
     },
     "execution_count": 52,
     "metadata": {},
     "output_type": "execute_result"
    }
   ],
   "source": [
    "clf.best_params_"
   ]
  },
  {
   "cell_type": "code",
   "execution_count": 53,
   "metadata": {},
   "outputs": [
    {
     "name": "stdout",
     "output_type": "stream",
     "text": [
      "0.985 (+/-0.008) for {'kernel': 'rbf', 'C': 1, 'gamma': 0.001}\n",
      "0.967 (+/-0.010) for {'kernel': 'rbf', 'C': 1, 'gamma': 0.0001}\n",
      "0.741 (+/-0.017) for {'kernel': 'rbf', 'C': 1, 'gamma': 1e-05}\n",
      "0.988 (+/-0.008) for {'kernel': 'rbf', 'C': 10, 'gamma': 0.001}\n",
      "0.985 (+/-0.007) for {'kernel': 'rbf', 'C': 10, 'gamma': 0.0001}\n",
      "0.968 (+/-0.008) for {'kernel': 'rbf', 'C': 10, 'gamma': 1e-05}\n",
      "0.989 (+/-0.009) for {'kernel': 'rbf', 'C': 100, 'gamma': 0.001}\n",
      "0.988 (+/-0.004) for {'kernel': 'rbf', 'C': 100, 'gamma': 0.0001}\n",
      "0.985 (+/-0.008) for {'kernel': 'rbf', 'C': 100, 'gamma': 1e-05}\n",
      "0.986 (+/-0.003) for {'C': 0.01, 'kernel': 'linear'}\n",
      "0.990 (+/-0.005) for {'C': 0.1, 'kernel': 'linear'}\n",
      "0.990 (+/-0.005) for {'C': 1, 'kernel': 'linear'}\n",
      "0.990 (+/-0.005) for {'C': 10, 'kernel': 'linear'}\n",
      "0.990 (+/-0.005) for {'C': 100, 'kernel': 'linear'}\n"
     ]
    }
   ],
   "source": [
    "means = clf.cv_results_['mean_test_score']\n",
    "stds = clf.cv_results_['std_test_score']\n",
    "for mean, std, params in zip(means, stds, clf.cv_results_['params']):\n",
    "    print(\"%0.3f (+/-%0.03f) for %r\" % (mean, std * 2, params))"
   ]
  },
  {
   "cell_type": "markdown",
   "metadata": {},
   "source": [
    "## Classification Report\n",
    "Check performance with test set"
   ]
  },
  {
   "cell_type": "code",
   "execution_count": 59,
   "metadata": {},
   "outputs": [
    {
     "name": "stdout",
     "output_type": "stream",
     "text": [
      "              precision    recall  f1-score   support\n",
      "\n",
      "           0     0.9861    0.9792    0.9826       289\n",
      "           1     0.9919    0.9879    0.9899       247\n",
      "           2     0.9890    0.9937    0.9913       633\n",
      "\n",
      "   micro avg     0.9889    0.9889    0.9889      1169\n",
      "   macro avg     0.9890    0.9869    0.9879      1169\n",
      "weighted avg     0.9889    0.9889    0.9889      1169\n",
      "\n"
     ]
    }
   ],
   "source": [
    "test_df.reset_index()\n",
    "y_test = tags_enc.transform(test_df['tags'])\n",
    "X_test = count_vectorizer.transform(test_df['text'])\n",
    "y_pred = clf.predict(X_test)\n",
    "print(classification_report(y_test, y_pred, digits=4))"
   ]
  },
  {
   "cell_type": "markdown",
   "metadata": {},
   "source": [
    "## Confusion Matrix"
   ]
  },
  {
   "cell_type": "code",
   "execution_count": 76,
   "metadata": {},
   "outputs": [],
   "source": [
    "def plot_confusion_matrix(cm, classes,\n",
    "                          normalize=False,\n",
    "                          title='Confusion matrix',\n",
    "                          cmap=plt.cm.Blues):\n",
    "    \"\"\"\n",
    "    This function prints and plots the confusion matrix.\n",
    "    Normalization can be applied by setting `normalize=True`.\n",
    "    \"\"\"\n",
    "    if normalize:\n",
    "        cm = cm.astype('float') / cm.sum(axis=1)[:, np.newaxis]\n",
    "        print(\"Normalized confusion matrix\")\n",
    "    else:\n",
    "        print('Confusion matrix, without normalization')\n",
    "\n",
    "    print(cm)\n",
    "\n",
    "    plt.imshow(cm, interpolation='nearest', cmap=cmap)\n",
    "    plt.title(title)\n",
    "    plt.colorbar()\n",
    "    tick_marks = np.arange(len(classes))\n",
    "    \n",
    "    plt.xticks(tick_marks, classes, rotation=45)\n",
    "    plt.yticks(tick_marks, classes)\n",
    "\n",
    "    fmt = '.2f' if normalize else 'd'\n",
    "    thresh = cm.max() / 2.\n",
    "    for i, j in itertools.product(range(cm.shape[0]), range(cm.shape[1])):\n",
    "        plt.text(j, i, format(cm[i, j], fmt),\n",
    "                 horizontalalignment=\"center\",\n",
    "                 color=\"white\" if cm[i, j] > thresh else \"black\")\n",
    "\n",
    "    plt.ylabel('True label')\n",
    "    plt.xlabel('Predicted label')\n",
    "    plt.tight_layout()"
   ]
  },
  {
   "cell_type": "code",
   "execution_count": 82,
   "metadata": {},
   "outputs": [
    {
     "name": "stdout",
     "output_type": "stream",
     "text": [
      "Confusion matrix, without normalization\n",
      "[[283   1   5]\n",
      " [  1 244   2]\n",
      " [  3   1 629]]\n"
     ]
    },
    {
     "data": {
      "image/png": "[encoded data removed]",
      "text/plain": [
       "<Figure size 432x288 with 2 Axes>"
      ]
     },
     "metadata": {
      "needs_background": "light"
     },
     "output_type": "display_data"
    }
   ],
   "source": [
    "%matplotlib inline\n",
    "\n",
    "cnf_matrix = confusion_matrix(y_test, y_pred)\n",
    "plot_confusion_matrix(cnf_matrix, classes=['0', '1', '2'], title='Confusion matrix')"
   ]
  },
  {
   "cell_type": "code",
   "execution_count": 84,
   "metadata": {},
   "outputs": [
    {
     "name": "stdout",
     "output_type": "stream",
     "text": [
      "Normalized confusion matrix\n",
      "[[0.97923875 0.00346021 0.01730104]\n",
      " [0.00404858 0.98785425 0.00809717]\n",
      " [0.00473934 0.00157978 0.99368088]]\n"
     ]
    },
    {
     "data": {
      "image/png": "[encoded data removed]",
      "text/plain": [
       "<Figure size 432x288 with 2 Axes>"
      ]
     },
     "metadata": {
      "needs_background": "light"
     },
     "output_type": "display_data"
    }
   ],
   "source": [
    "%matplotlib inline\n",
    "plot_confusion_matrix(cnf_matrix, classes=['0', '1', '2'], title='Confusion matrix', normalize=True)"
   ]
  },
  {
   "cell_type": "markdown",
   "metadata": {},
   "source": [
    "## Generate predictions on final test set"
   ]
  },
  {
   "cell_type": "code",
   "execution_count": 85,
   "metadata": {},
   "outputs": [],
   "source": [
    "final_test_df = pd.read_csv('offsite-test-material/offsite-tagging-test-set (1).csv')"
   ]
  },
  {
   "cell_type": "code",
   "execution_count": 86,
   "metadata": {},
   "outputs": [],
   "source": [
    "ft_X = count_vectorizer.transform(final_test_df.text)\n",
    "pred_y = clf.predict(ft_X)"
   ]
  },
  {
   "cell_type": "code",
   "execution_count": 87,
   "metadata": {},
   "outputs": [],
   "source": [
    "final_test_df['predicted_tag']=pd.Series(tags_enc.inverse_transform(pred_y), index=final_test_df.index)"
   ]
  },
  {
   "cell_type": "code",
   "execution_count": 90,
   "metadata": {},
   "outputs": [
    {
     "data": {
      "text/html": [
       "<div>\n",
       "<style scoped>\n",
       "    .dataframe tbody tr th:only-of-type {\n",
       "        vertical-align: middle;\n",
       "    }\n",
       "\n",
       "    .dataframe tbody tr th {\n",
       "        vertical-align: top;\n",
       "    }\n",
       "\n",
       "    .dataframe thead th {\n",
       "        text-align: right;\n",
       "    }\n",
       "</style>\n",
       "<table border=\"1\" class=\"dataframe\">\n",
       "  <thead>\n",
       "    <tr style=\"text-align: right;\">\n",
       "      <th></th>\n",
       "      <th>id</th>\n",
       "      <th>text</th>\n",
       "      <th>predicted_tag</th>\n",
       "    </tr>\n",
       "  </thead>\n",
       "  <tbody>\n",
       "    <tr>\n",
       "      <th>0</th>\n",
       "      <td>6</td>\n",
       "      <td>南華添鋒力　簽前厄瓜多爾國腳保耶 港超勁旅南華宣布羅致前厄瓜多爾國腳菲力斯保耶（Felix ...</td>\n",
       "      <td>足球</td>\n",
       "    </tr>\n",
       "    <tr>\n",
       "      <th>1</th>\n",
       "      <td>128</td>\n",
       "      <td>如果大學$0捐款　科大嶺南將蝕過千萬元 據now新聞台報道，身兼8大校監的特首梁振英曾以大學...</td>\n",
       "      <td>梁振英</td>\n",
       "    </tr>\n",
       "    <tr>\n",
       "      <th>2</th>\n",
       "      <td>136</td>\n",
       "      <td>英超最強火力對碰　雙城爭冠靠鋒霸 英超今季風起雲湧，傳統「Big 5」只剩兩隊名列積分榜前5...</td>\n",
       "      <td>足球</td>\n",
       "    </tr>\n",
       "    <tr>\n",
       "      <th>3</th>\n",
       "      <td>213</td>\n",
       "      <td>【01球評】膺半程冠軍　阿仙奴今季不奪標更待何時？ 近年「兵工廠」每季的起落都離不開一個循環...</td>\n",
       "      <td>足球</td>\n",
       "    </tr>\n",
       "    <tr>\n",
       "      <th>4</th>\n",
       "      <td>658</td>\n",
       "      <td>【書商失蹤】梁振英：希望失蹤的李波本人提供資料 行政長官梁振英出席行政會議前見記者，被問及李...</td>\n",
       "      <td>梁振英</td>\n",
       "    </tr>\n",
       "    <tr>\n",
       "      <th>5</th>\n",
       "      <td>700</td>\n",
       "      <td>【施政盤點】三份施政報告　僅一半政策達標 行政長官梁振英即將公布任內第四份施政報告，《香港0...</td>\n",
       "      <td>梁振英</td>\n",
       "    </tr>\n",
       "    <tr>\n",
       "      <th>6</th>\n",
       "      <td>729</td>\n",
       "      <td>【施政盤點】「治港絕招」　設19委員會　空談多實務少 行政長官梁振英上任3年多，先後成立多個...</td>\n",
       "      <td>梁振英</td>\n",
       "    </tr>\n",
       "    <tr>\n",
       "      <th>7</th>\n",
       "      <td>837</td>\n",
       "      <td>高普首簽　「新馬迪」來季投紅軍 利物浦傷兵滿營及戰績不穩，主帥高普仍不忘投資未來，昨以510...</td>\n",
       "      <td>足球</td>\n",
       "    </tr>\n",
       "    <tr>\n",
       "      <th>8</th>\n",
       "      <td>1037</td>\n",
       "      <td>「最潮主帥」鬥利物浦：我已領先1：0 英乙球隊埃克塞特在明晨的足總盃於主場迎戰利物浦，雖然越...</td>\n",
       "      <td>足球</td>\n",
       "    </tr>\n",
       "    <tr>\n",
       "      <th>9</th>\n",
       "      <td>1095</td>\n",
       "      <td>紅軍超殘陣逼和英乙隊　高普：負擔不起重賽 逾十名球員受傷的利物浦，今晨在足總盃第三圈以大部份...</td>\n",
       "      <td>足球</td>\n",
       "    </tr>\n",
       "  </tbody>\n",
       "</table>\n",
       "</div>"
      ],
      "text/plain": [
       "     id                                               text predicted_tag\n",
       "0     6  南華添鋒力　簽前厄瓜多爾國腳保耶 港超勁旅南華宣布羅致前厄瓜多爾國腳菲力斯保耶（Felix ...            足球\n",
       "1   128  如果大學$0捐款　科大嶺南將蝕過千萬元 據now新聞台報道，身兼8大校監的特首梁振英曾以大學...           梁振英\n",
       "2   136  英超最強火力對碰　雙城爭冠靠鋒霸 英超今季風起雲湧，傳統「Big 5」只剩兩隊名列積分榜前5...            足球\n",
       "3   213  【01球評】膺半程冠軍　阿仙奴今季不奪標更待何時？ 近年「兵工廠」每季的起落都離不開一個循環...            足球\n",
       "4   658  【書商失蹤】梁振英：希望失蹤的李波本人提供資料 行政長官梁振英出席行政會議前見記者，被問及李...           梁振英\n",
       "5   700  【施政盤點】三份施政報告　僅一半政策達標 行政長官梁振英即將公布任內第四份施政報告，《香港0...           梁振英\n",
       "6   729  【施政盤點】「治港絕招」　設19委員會　空談多實務少 行政長官梁振英上任3年多，先後成立多個...           梁振英\n",
       "7   837  高普首簽　「新馬迪」來季投紅軍 利物浦傷兵滿營及戰績不穩，主帥高普仍不忘投資未來，昨以510...            足球\n",
       "8  1037  「最潮主帥」鬥利物浦：我已領先1：0 英乙球隊埃克塞特在明晨的足總盃於主場迎戰利物浦，雖然越...            足球\n",
       "9  1095  紅軍超殘陣逼和英乙隊　高普：負擔不起重賽 逾十名球員受傷的利物浦，今晨在足總盃第三圈以大部份...            足球"
      ]
     },
     "execution_count": 90,
     "metadata": {},
     "output_type": "execute_result"
    }
   ],
   "source": [
    "final_test_df.head(10)"
   ]
  },
  {
   "cell_type": "code",
   "execution_count": 89,
   "metadata": {},
   "outputs": [],
   "source": [
    "final_test_df.to_csv('prediction.csv')"
   ]
  },
  {
   "cell_type": "code",
   "execution_count": null,
   "metadata": {},
   "outputs": [],
   "source": []
  }
 ],
 "metadata": {
  "kernelspec": {
   "display_name": "Python 3",
   "language": "python",
   "name": "python3"
  },
  "language_info": {
   "codemirror_mode": {
    "name": "ipython",
    "version": 3
   },
   "file_extension": ".py",
   "mimetype": "text/x-python",
   "name": "python",
   "nbconvert_exporter": "python",
   "pygments_lexer": "ipython3",
   "version": "3.5.3"
  }
 },
 "nbformat": 4,
 "nbformat_minor": 2
}
